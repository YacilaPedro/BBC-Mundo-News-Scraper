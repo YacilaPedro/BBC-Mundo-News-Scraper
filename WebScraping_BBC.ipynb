{
 "cells": [
  {
   "cell_type": "code",
   "execution_count": null,
   "id": "2e82a57c",
   "metadata": {},
   "outputs": [],
   "source": [
    "import requests\n",
    "from bs4 import BeautifulSoup\n",
    "import pandas as pd\n",
    "from datetime import datetime\n",
    "\n",
    "def extraer_titulares():\n",
    "    url = 'https://www.bbc.com/mundo'\n",
    "    response = requests.get(url)\n",
    "\n",
    "    if response.status_code != 200:\n",
    "        print(\"❌ Error al acceder a la página.\")\n",
    "        return []\n",
    "\n",
    "    soup = BeautifulSoup(response.text, 'html.parser')\n",
    "    titulos = soup.find_all('h3')\n",
    "\n",
    "    lista_titulos = []\n",
    "    for titulo in titulos:\n",
    "        texto = titulo.get_text(strip=True)\n",
    "        if texto:\n",
    "            lista_titulos.append(texto)\n",
    "\n",
    "    return lista_titulos\n",
    "\n",
    "def guardar_en_csv(titulares):\n",
    "    fecha = datetime.now().strftime('%Y-%m-%d')\n",
    "    nombre_archivo = f\"titulares_bbc_{fecha}.csv\"\n",
    "\n",
    "    df = pd.DataFrame(titulares, columns=[\"Titular\"])\n",
    "    df.to_csv(nombre_archivo, index=False, encoding='utf-8')\n",
    "    print(f\"✅ Titulares guardados en '{nombre_archivo}'\")\n",
    "\n",
    "if _name_ == \"_main_\":\n",
    "    print(\"📡 Extrayendo titulares de BBC Mundo...\")\n",
    "    titulares = extraer_titulares()\n",
    "    if titulares:\n",
    "        guardar_en_csv(titulares)\n"
   ]
  },
  {
   "cell_type": "code",
   "execution_count": null,
   "id": "e7403c9b",
   "metadata": {},
   "outputs": [],
   "source": []
  },
  {
   "cell_type": "code",
   "execution_count": null,
   "id": "a5193bf2",
   "metadata": {},
   "outputs": [],
   "source": []
  },
  {
   "cell_type": "code",
   "execution_count": null,
   "id": "6da85f3b",
   "metadata": {},
   "outputs": [],
   "source": []
  },
  {
   "cell_type": "code",
   "execution_count": null,
   "id": "18e08114",
   "metadata": {},
   "outputs": [],
   "source": []
  },
  {
   "cell_type": "code",
   "execution_count": null,
   "id": "aac124bd",
   "metadata": {},
   "outputs": [],
   "source": []
  }
 ],
 "metadata": {
  "kernelspec": {
   "display_name": "base",
   "language": "python",
   "name": "python3"
  },
  "language_info": {
   "codemirror_mode": {
    "name": "ipython",
    "version": 3
   },
   "file_extension": ".py",
   "mimetype": "text/x-python",
   "name": "python",
   "nbconvert_exporter": "python",
   "pygments_lexer": "ipython3",
   "version": "3.12.7"
  }
 },
 "nbformat": 4,
 "nbformat_minor": 5
}
